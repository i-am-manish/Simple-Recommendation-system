{
 "cells": [
  {
   "cell_type": "code",
   "execution_count": 1,
   "metadata": {
    "scrolled": true
   },
   "outputs": [],
   "source": [
    "import pandas as pd\n",
    "from sklearn.feature_extraction.text import TfidfVectorizer\n",
    "from sklearn.metrics.pairwise import linear_kernel\n",
    "\n",
    "df=pd.read_csv(\"sample-data.csv\")"
   ]
  },
  {
   "cell_type": "code",
   "execution_count": 2,
   "metadata": {},
   "outputs": [],
   "source": [
    "# TF-IDF vectroizer\n",
    "tf=TfidfVectorizer(analyzer='word',ngram_range=(1, 3),min_df=0,stop_words='english')\n",
    "tfidf_matrix=tf.fit_transform(df['description'])"
   ]
  },
  {
   "cell_type": "code",
   "execution_count": 5,
   "metadata": {},
   "outputs": [
    {
     "name": "stdout",
     "output_type": "stream",
     "text": [
      "done!\n"
     ]
    }
   ],
   "source": [
    "# Use linear_kernel to pariwise the similarity of each item\n",
    "cosine_similarities=linear_kernel(tfidf_matrix,tfidf_matrix)\n",
    "# For each item, store a dict of similar items, sorted by similiarity\n",
    "results={}\n",
    "\n",
    "for idx,row in df.iterrows():\n",
    "    similar_indices=cosine_similarities[idx].argsort()[:-100:-1]\n",
    "    similar_items=[(cosine_similarities[idx][i],df['id'][i]) for i in similar_indices]\n",
    "\n",
    "# First item is the item itself, so remove it.\n",
    "# Each dictionary entry is like: [(1,2), (3,4)], with each tuple being (score, item_id)\n",
    "    results[row['id']]=similar_items[1:]\n",
    "    \n",
    "print('done!')"
   ]
  },
  {
   "cell_type": "code",
   "execution_count": 6,
   "metadata": {},
   "outputs": [
    {
     "name": "stdout",
     "output_type": "stream",
     "text": [
      "Recommending5products similar toCap 1 graphic t-shirt...\n",
      "-------\n",
      "Recommended:Cap 1 graphic t-shirt(score:0.6681227479230913)\n",
      "Recommended:Cap 1 t-shirt(score:0.6296589693391987)\n",
      "Recommended:Cap 1 graphic crew(score:0.572693179926409)\n",
      "Recommended:Cap 1 t-shirt(score:0.4977741432992565)\n",
      "Recommended:Cap 1 crew(score:0.488733186945647)\n"
     ]
    }
   ],
   "source": [
    "def item(id):\n",
    "    return df.loc[df['id']==id]['description'].tolist()[0].split(' - ')[0]\n",
    "# Reading results out of the dictionary\n",
    "def recommend(item_id,num):\n",
    "    print(\"Recommending\"+str(num)+\"products similar to\"+item(item_id)+\"...\")\n",
    "    print(\"-------\")\n",
    "    recs=results[item_id][:num]\n",
    "    for rec in recs:\n",
    "        print(\"Recommended:\"+item(rec[1])+\"(score:\"+str(rec[0])+\")\")\n",
    "# Just plug in any item id here (1-500), and the number of recommendations you want (1-99)\n",
    "# You can get a list of valid item IDs by evaluating the variable 'df', or a few are listed below\n",
    "recommend(item_id=340,num=5)"
   ]
  },
  {
   "cell_type": "code",
   "execution_count": null,
   "metadata": {
    "collapsed": true
   },
   "outputs": [],
   "source": []
  }
 ],
 "metadata": {
  "kernelspec": {
   "display_name": "Python 3",
   "language": "python",
   "name": "python3"
  },
  "language_info": {
   "codemirror_mode": {
    "name": "ipython",
    "version": 3
   },
   "file_extension": ".py",
   "mimetype": "text/x-python",
   "name": "python",
   "nbconvert_exporter": "python",
   "pygments_lexer": "ipython3",
   "version": "3.6.4"
  }
 },
 "nbformat": 4,
 "nbformat_minor": 2
}
